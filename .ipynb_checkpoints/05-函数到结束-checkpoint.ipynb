{
 "cells": [
  {
   "cell_type": "markdown",
   "metadata": {},
   "source": [
    "# 四类参数\n",
    "-普通参数\n",
    "-默认参数\n",
    "-关键字参数\n",
    "-收集参数\n",
    "\n",
    "##关键字参数\n",
    "-语法\n",
    "\n",
    "    def func(p1=v1,p2=v2......)\n",
    "        func_block\n",
    "        \n",
    "    调用函数：\n",
    "    func(p1=value1,p2=value2......)"
   ]
  },
  {
   "cell_type": "code",
   "execution_count": 15,
   "metadata": {},
   "outputs": [
    {
     "name": "stdout",
     "output_type": "stream",
     "text": [
      "I am  a good student\n",
      "我叫20，我今年mingyue岁了，我住在我家\n",
      "I am a good student\n",
      "我叫mingyue，我今年20岁了，我住在我家\n"
     ]
    }
   ],
   "source": [
    "#关键字参数案例\n",
    "\n",
    "def stu(name, age, addr):\n",
    "    print(\"I am  a good student\")\n",
    "    print(\"我叫{0}，我今年{1}岁了，我住在{2}\".format(name, age, addr))\n",
    "n = \"mingyue\"\n",
    "age = 20\n",
    "addr = \"我家\"\n",
    "#普通参数，只按照位置传递，容易出错\n",
    "stu(age, n, addr)\n",
    "#######\n",
    "def stu_key(name=\"\", age=0, addr=\"\"):\n",
    "    print(\"I am a good student\")\n",
    "    print(\"我叫{0}，我今年{1}岁了，我住在{2}\".format(name, age, addr))\n",
    "n = \"mingyue\"\n",
    "a = 20\n",
    "addr = \"我家\"\n",
    "#关键字参数，可以不考虑参数位置\n",
    "stu_key(age=a, name=n, addr=addr)"
   ]
  },
  {
   "cell_type": "markdown",
   "metadata": {},
   "source": [
    "# 收集参数\n",
    "-把没有位置，不能和定义时的参数位置相对应的参数，放入一个特定的数据结构中\n",
    "-语法\n",
    "\n",
    "    def func(*args)\n",
    "        func_block\n",
    "        按照list使用方式访问args得到传入的参数\n",
    "    \n",
    "    调用：\n",
    "    func(p1,p2,p3......)\n",
    "-推荐使用args变量名，约定俗成\n",
    "-参数args前需要星号\n",
    "-收集参数可以和其他参数共存\n",
    "    \n"
   ]
  },
  {
   "cell_type": "code",
   "execution_count": 21,
   "metadata": {},
   "outputs": [
    {
     "name": "stdout",
     "output_type": "stream",
     "text": [
      "Hello 大家好，我自我介绍一下，简答说几句：\n",
      "<class 'tuple'>\n",
      "mingyue\n",
      "20\n",
      "黄村火车站\n",
      "single\n",
      "a good girl\n",
      "Hello 大家好，我自我介绍一下，简答说几句：\n",
      "<class 'tuple'>\n",
      "周达燊\n",
      "a teacher\n"
     ]
    }
   ],
   "source": [
    "#收集参数案例\n",
    "#函数模拟一个学生自我介绍，具体介绍内容不定\n",
    "#可以把args看成一个list\n",
    "def stu(*args):\n",
    "    print(\"Hello 大家好，我自我介绍一下，简答说几句：\")\n",
    "    #type函数作用是检测变量类型\n",
    "    print(type(args))\n",
    "    for item in args:\n",
    "        print(item)\n",
    "    \n",
    "stu(\"mingyue\", 20, \"黄村火车站\", \"single\", \"a good girl\")\n",
    "stu(\"周达燊\", \"a teacher\")"
   ]
  },
  {
   "cell_type": "markdown",
   "metadata": {},
   "source": [
    "###收集参数之关键字收集\n",
    "-把关键字参数按照字典格式存入参数\n",
    "-语法：\n",
    "    \n",
    "    def func(**kwargs):\n",
    "        func_block\n",
    "        \n",
    "    #调用：\n",
    "    func(p1, p2......)\n",
    "\n",
    "-kwargs一般约定俗成 \n",
    "-调用时，把多余的关键字参数存入kwargs\n",
    "-访问kwargs需要按字典格式访问"
   ]
  },
  {
   "cell_type": "code",
   "execution_count": 1,
   "metadata": {},
   "outputs": [
    {
     "name": "stdout",
     "output_type": "stream",
     "text": [
      "Hello 大家好，我自我介绍一下，简答说几句：\n",
      "<class 'dict'>\n",
      "name --- mingyue\n",
      "age --- 20\n",
      "addr --- 黄村火车站\n",
      "word --- single, a good girl\n",
      "**************************************************\n",
      "Hello 大家好，我自我介绍一下，简答说几句：\n",
      "<class 'dict'>\n",
      "name --- 周达燊\n",
      "work --- a teacher\n"
     ]
    }
   ],
   "source": [
    "#收集参数案例\n",
    "#函数模拟一个学生自我介绍，具体介绍内容不定\n",
    "#调用时需要使用关键字参数调用\n",
    "def stu(**kwargs):\n",
    "    \n",
    "    print(\"Hello 大家好，我自我介绍一下，简答说几句：\")\n",
    "    #type函数作用是检测变量类型\n",
    "    print(type(kwargs))\n",
    "    for k,v in kwargs.items():\n",
    "        print(k, \"---\", v)\n",
    "    \n",
    "stu(name=\"mingyue\", age=20, addr=\"黄村火车站\", word=\"single, a good girl\")\n",
    "print(\"*\" * 50)\n",
    "stu(name=\"周达燊\", work=\"a teacher\")"
   ]
  }
 ],
 "metadata": {
  "kernelspec": {
   "display_name": "Python 3",
   "language": "python",
   "name": "python3"
  },
  "language_info": {
   "codemirror_mode": {
    "name": "ipython",
    "version": 3
   },
   "file_extension": ".py",
   "mimetype": "text/x-python",
   "name": "python",
   "nbconvert_exporter": "python",
   "pygments_lexer": "ipython3",
   "version": "3.7.0"
  }
 },
 "nbformat": 4,
 "nbformat_minor": 2
}
