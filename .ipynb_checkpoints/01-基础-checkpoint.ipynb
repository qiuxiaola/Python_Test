{
 "cells": [
  {
   "cell_type": "code",
   "execution_count": 2,
   "metadata": {},
   "outputs": [
    {
     "name": "stdout",
     "output_type": "stream",
     "text": [
      "18\n"
     ]
    }
   ],
   "source": [
    "age=18\n",
    "print(age)"
   ]
  },
  {
   "cell_type": "markdown",
   "metadata": {},
   "source": [
    "##变量类型\n",
    "-严格意义上，Python只有一种类型Object；\n",
    "-标准数据有六种\n",
    "    - 数字类型num\n",
    "    - 字符串类型str\n",
    "    - 列表list\n",
    "    - 元组tuple\n",
    "    - 字典Dictionary\n",
    "    - 集合set"
   ]
  },
  {
   "cell_type": "markdown",
   "metadata": {},
   "source": [
    "##NUmber数据类型\n",
    "- 数字类型没有大小限制\n",
    "###整型\n",
    "- 没有小数部分，表示个数的数字\n",
    "- 负自然数，0，正自然数\n",
    "- 整数分进制\n",
    "    - 二进制\n",
    "        - 计算机常用\n",
    "        - 是计算机位置可以理解的数字\n",
    "        \n",
    "        \n",
    "    - 八进制\n",
    "        -\n",
    "        -\n",
    "        -\n",
    "         -\n",
    "    -十六进制\n",
    "        -\n",
    "        -\n",
    "        -\n",
    "        -\n",
    "    - 十进制\n",
    "        -\n",
    "        -\n",
    "        -\n",
    "        "
   ]
  },
  {
   "cell_type": "markdown",
   "metadata": {},
   "source": [
    "##浮点数\n",
    "-小数\n",
    "-计算机里面表示浮点数可以有条件省略\n",
    "-3.1415926\n",
    "-0.5\n",
    "-.2\n",
    "-科学计数发"
   ]
  },
  {
   "cell_type": "markdown",
   "metadata": {},
   "source": [
    "##复数complex\n",
    "- 定义与数学定义一致\n",
    "- 虚部用j/J表示\n",
    "- 5+5j\n",
    "- 3j\n"
   ]
  },
  {
   "cell_type": "markdown",
   "metadata": {},
   "source": [
    "##布尔值\n",
    "- 表示真假的值\n",
    "- 只有两个值 False/True\n"
   ]
  },
  {
   "cell_type": "code",
   "execution_count": 7,
   "metadata": {},
   "outputs": [
    {
     "name": "stdout",
     "output_type": "stream",
     "text": [
      "21\n"
     ]
    }
   ],
   "source": [
    "#布尔值操作\n",
    "age=20+True\n",
    "print(age)\n"
   ]
  },
  {
   "cell_type": "markdown",
   "metadata": {},
   "source": [
    "##字符串\n",
    "- 用来表示一串文字信息\n",
    "- 如何表示\n",
    "    - 单引号\n",
    "    - 双引号\n",
    "    - 三引号（三单、三双）\n",
    "- 单双引号交叉使用\n"
   ]
  },
  {
   "cell_type": "code",
   "execution_count": 20,
   "metadata": {},
   "outputs": [
    {
     "name": "stdout",
     "output_type": "stream",
     "text": [
      "我喜欢\"<Python>\"学习\n"
     ]
    }
   ],
   "source": [
    "#单双引号使用列子\n",
    "str1='我喜欢\"<Python>\"学习'\n",
    "print(str1)\n"
   ]
  },
  {
   "cell_type": "code",
   "execution_count": 16,
   "metadata": {
    "scrolled": true
   },
   "outputs": [
    {
     "ename": "NameError",
     "evalue": "name 'DeepLearning' is not defined",
     "output_type": "error",
     "traceback": [
      "\u001b[0;31m---------------------------------------------------------------------------\u001b[0m",
      "\u001b[0;31mNameError\u001b[0m                                 Traceback (most recent call last)",
      "\u001b[0;32m<ipython-input-16-f49733ef44fb>\u001b[0m in \u001b[0;36m<module>\u001b[0;34m()\u001b[0m\n\u001b[1;32m      1\u001b[0m \u001b[0;31m#c单双引号使用列子-错误列子\u001b[0m\u001b[0;34m\u001b[0m\u001b[0;34m\u001b[0m\u001b[0m\n\u001b[0;32m----> 2\u001b[0;31m \u001b[0mstr2\u001b[0m\u001b[0;34m=\u001b[0m\u001b[0;34m\"我喜欢\"\u001b[0m\u001b[0;34m<\u001b[0m\u001b[0mDeepLearning\u001b[0m\u001b[0;34m>\u001b[0m\u001b[0;34m\"学习\"\u001b[0m\u001b[0;34m\u001b[0m\u001b[0m\n\u001b[0m\u001b[1;32m      3\u001b[0m \u001b[0mprint\u001b[0m\u001b[0;34m(\u001b[0m\u001b[0mstr2\u001b[0m\u001b[0;34m)\u001b[0m\u001b[0;34m\u001b[0m\u001b[0m\n",
      "\u001b[0;31mNameError\u001b[0m: name 'DeepLearning' is not defined"
     ]
    }
   ],
   "source": [
    "#c单双引号使用列子-错误列子\n",
    "str2=\"我喜欢\"<DeepLearning>\"学习\"\n",
    "print(str2)"
   ]
  },
  {
   "cell_type": "code",
   "execution_count": 18,
   "metadata": {},
   "outputs": [
    {
     "name": "stdout",
     "output_type": "stream",
     "text": [
      "\n",
      "Python基础学习\n",
      "学习时长-三天\n",
      "学习方式-直播\n",
      "\n"
     ]
    }
   ],
   "source": [
    "##三引号使用列子-（换行）\n",
    "str='''\n",
    "Python基础学习\n",
    "学习时长-三天\n",
    "学习方式-直播\n",
    "'''\n",
    "print(str)"
   ]
  }
 ],
 "metadata": {
  "kernelspec": {
   "display_name": "Python 3",
   "language": "python",
   "name": "python3"
  },
  "language_info": {
   "codemirror_mode": {
    "name": "ipython",
    "version": 3
   },
   "file_extension": ".py",
   "mimetype": "text/x-python",
   "name": "python",
   "nbconvert_exporter": "python",
   "pygments_lexer": "ipython3",
   "version": "3.7.0"
  }
 },
 "nbformat": 4,
 "nbformat_minor": 2
}
