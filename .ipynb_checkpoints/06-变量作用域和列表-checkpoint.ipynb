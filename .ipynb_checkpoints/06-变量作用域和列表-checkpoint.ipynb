{
 "cells": [
  {
   "cell_type": "code",
   "execution_count": null,
   "metadata": {},
   "outputs": [],
   "source": [
    "#  变量作用域\n",
    "- 变量由作用范围限制\n",
    "- 分类：按照作用域分类\n",
    "    - 全局(global):在函数外部定义\n",
    "    - 局部(local):在函数内部定义\n",
    "- 变量的作用域范围：\n",
    "    - 全局变量，在整个全局范围都有效\n",
    "    - 局部变量在局部范围使用，在群居范围无效\n",
    "- LEGB原则\n",
    "    - L (Local) 局部作用域\n",
    "    - E (Enclosing function local) 外部嵌套函数作用域\n",
    "    - G (Global module) 函数定义所在模块作用域\n",
    "    - B (Buildin) Python内置模块的作用域"
   ]
  }
 ],
 "metadata": {
  "kernelspec": {
   "display_name": "Python 3",
   "language": "python",
   "name": "python3"
  },
  "language_info": {
   "codemirror_mode": {
    "name": "ipython",
    "version": 3
   },
   "file_extension": ".py",
   "mimetype": "text/x-python",
   "name": "python",
   "nbconvert_exporter": "python",
   "pygments_lexer": "ipython3",
   "version": "3.7.0"
  }
 },
 "nbformat": 4,
 "nbformat_minor": 2
}
