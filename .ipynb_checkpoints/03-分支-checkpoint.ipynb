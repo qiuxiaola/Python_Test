{
 "cells": [
  {
   "cell_type": "markdown",
   "metadata": {},
   "source": [
    "# 三大结构\n",
    ".顺序\n",
    ".分支\n",
    ".循环\n",
    "    "
   ]
  },
  {
   "cell_type": "markdown",
   "metadata": {},
   "source": [
    "# 分支\n",
    "    -分支的基本语法\n",
    "    \n",
    "        if 条件表达式：\n",
    "            语句1\n",
    "            语句2\n",
    "            语句3\n",
    "            ......\n",
    "    -条件表达式就是计算结果必须为布尔值的表达式\n",
    "    -表达式后面冒号不可省\n",
    "    -主要if后面的语句，如果属于if语句块，则必须同一锁紧等级\n",
    "    -条件表达式结构为True执行if后面的缩进语句块\n",
    "    "
   ]
  },
  {
   "cell_type": "code",
   "execution_count": 4,
   "metadata": {},
   "outputs": [
    {
     "name": "stdout",
     "output_type": "stream",
     "text": [
      "去叫家长吧，孩子\n",
      "好好学习，天天向上\n"
     ]
    }
   ],
   "source": [
    "age = 17\n",
    "if  age<18:\n",
    "    print(\"去叫家长吧，孩子\")\n",
    "    print(\"好好学习，天天向上\")"
   ]
  },
  {
   "cell_type": "markdown",
   "metadata": {},
   "source": [
    "# 双向分支\n",
    "-if...else...语句\n",
    "    if 条件表达式:\n",
    "        语句1\n",
    "        语句2\n",
    "        ......\n",
    "    else:\n",
    "        语句1\n",
    "        语句2\n",
    "        ......\n",
    "-双向分支有两个分支，当程序执行if...else...语句时，一定且执行其中if或else之一的语句\n",
    "-缩进问题，if和else同一层级，其余语句一个层级"
   ]
  },
  {
   "cell_type": "code",
   "execution_count": null,
   "metadata": {},
   "outputs": [],
   "source": [
    "#input的作用\n",
    "#1.在屏幕上输出括号内的字符串\n",
    "#2.接受用户输入内容并返回到程序\n",
    "#3.input返回的内容一定是字符串类型\n",
    "gender = input(\"请输入性别：\")\n",
    "print(\"你输入的性别是：{0}\".format(gender))\n",
    "\n",
    "if gender == \"nan\":\n",
    "    print(\"见着有份，敲十遍代码\")\n",
    "else:\n",
    "    print(\"发糖咯，请吃糖\")\n",
    "print(\"开始上课\")"
   ]
  },
  {
   "cell_type": "code",
   "execution_count": 6,
   "metadata": {},
   "outputs": [
    {
     "name": "stdout",
     "output_type": "stream",
     "text": [
      "请输入学生成绩：95\n",
      "A\n"
     ]
    }
   ],
   "source": [
    "#考试成绩判断\n",
    "#90以上：优秀\n",
    "#80~90：良\n",
    "#70~80：中\n",
    "#60~70：及格\n",
    "#60以下：我没你这学生\n",
    "score = input(\"请输入学生成绩：\")\n",
    "#需要把str转换为int\n",
    "score = int(score)\n",
    "if 90<=score<=100:\n",
    "    print(\"A\")\n",
    "if 80<=score<90:\n",
    "    print(\"B\")\n",
    "if 70<=score<80:\n",
    "    print(\"C\")\n",
    "if 60<=score<70:\n",
    "    print(\"D\")\n",
    "if 0<=score<60:\n",
    "    print(\"我没你这学生\")\n",
    "if score<0 or score>100:\n",
    "    print(\"输入有误，请重新输入\")\n"
   ]
  },
  {
   "cell_type": "markdown",
   "metadata": {},
   "source": [
    "# 多分支\n",
    "    if 条件表达式：\n",
    "        语句1\n",
    "        ...\n",
    "    elif 条件表达式：\n",
    "        语句1\n",
    "        ...\n",
    "    elif 条件表达式：\n",
    "        语句1\n",
    "        ...\n",
    "    else：\n",
    "        语句1\n",
    "        ...\n",
    "-elif可以有很多个\n",
    "-else可选\n",
    "-多分支只执行一个"
   ]
  },
  {
   "cell_type": "code",
   "execution_count": 27,
   "metadata": {},
   "outputs": [
    {
     "name": "stdout",
     "output_type": "stream",
     "text": [
      "请输入学生成绩：60\n",
      "D\n"
     ]
    }
   ],
   "source": [
    "#考试成绩判断\n",
    "#90以上：优秀\n",
    "#80~90：良\n",
    "#70~80：中\n",
    "#60~70：及格\n",
    "#60以下：我没你这学生\n",
    "score = input(\"请输入学生成绩：\")\n",
    "#需要把str转换为int\n",
    "score = int(score)\n",
    "if score>100:\n",
    "    print(\"输入有误，请重新输入\")\n",
    "elif 90<=score:\n",
    "    print(\"A\")\n",
    "elif 80<=score:\n",
    "    print(\"B\")\n",
    "elif 70<=score:\n",
    "    print(\"C\")\n",
    "elif 60<=score:\n",
    "    print(\"D\")\n",
    "elif 0<=score<60:\n",
    "    print(\"我没你这学生\")\n",
    "else:\n",
    "    print(\"输入有误，请重新输入\")\n",
    "    "
   ]
  },
  {
   "cell_type": "markdown",
   "metadata": {},
   "source": [
    "# if语句其他使用\n",
    "-if语句可嵌套使用，但不推荐\n",
    "-Python没有switch...case语句"
   ]
  },
  {
   "cell_type": "code",
   "execution_count": null,
   "metadata": {},
   "outputs": [],
   "source": [
    "##循环语句\n",
    "-重复执行某些固定或者处理基本固定的事件\n",
    "-分类\n",
    "    -for循环\n",
    "    -while循环\n",
    "###for循环\n",
    "-for循环\n",
    "    for 变量 in 序列\n",
    "        语句1\n",
    "        语句2\n",
    "        ......"
   ]
  },
  {
   "cell_type": "code",
   "execution_count": 33,
   "metadata": {},
   "outputs": [
    {
     "name": "stdout",
     "output_type": "stream",
     "text": [
      "xiaosongshu\n",
      "xiaobai\n",
      "xiaolaoshu\n"
     ]
    }
   ],
   "source": [
    "##列表就是一列数字或者其他值，一般用中括号表示\n",
    "#列如 [\"biejing\", \"huake,\"shanghai\"]\n",
    "for name in ['xiaosongshu','xiaobai','xiaolaoshu']:\n",
    "    print(name)"
   ]
  },
  {
   "cell_type": "markdown",
   "metadata": {},
   "source": [
    "# range介绍\n",
    "-生成一个数字序列\n",
    "-具体范围可以确定\n"
   ]
  },
  {
   "cell_type": "code",
   "execution_count": 38,
   "metadata": {},
   "outputs": [
    {
     "name": "stdout",
     "output_type": "stream",
     "text": [
      "1\n",
      "2\n",
      "3\n",
      "4\n",
      "5\n",
      "6\n",
      "7\n",
      "8\n",
      "9\n"
     ]
    }
   ],
   "source": [
    "#range练习\n",
    "#注意，一般在Python中，表示数字的范围两个数，一般包含左边而不包含右边数字\n",
    "\n",
    "for i in range(1,10):\n",
    "    print(i)"
   ]
  },
  {
   "cell_type": "markdown",
   "metadata": {},
   "source": [
    "# for-else语句\n",
    "-当for循环结束时，执行else语句\n",
    "-else语句是可选的\n"
   ]
  },
  {
   "cell_type": "code",
   "execution_count": 42,
   "metadata": {},
   "outputs": [
    {
     "name": "stdout",
     "output_type": "stream",
     "text": [
      "beijing\n",
      "向往的城市beijing\n",
      "shnaghai\n",
      "向往的城市shnaghai\n",
      "nanjing\n",
      "向往的城市nanjing\n"
     ]
    }
   ],
   "source": [
    "for name in [\"beijing\",\"shnaghai\",\"nanjing\"]:\n",
    "        print(name)\n",
    "        if name == \"beijng\":\n",
    "            print(\"我喜欢的城市\"+name)\n",
    "        else:\n",
    "            print(\"向往的城市\"+name)"
   ]
  }
 ],
 "metadata": {
  "kernelspec": {
   "display_name": "Python 3",
   "language": "python",
   "name": "python3"
  },
  "language_info": {
   "codemirror_mode": {
    "name": "ipython",
    "version": 3
   },
   "file_extension": ".py",
   "mimetype": "text/x-python",
   "name": "python",
   "nbconvert_exporter": "python",
   "pygments_lexer": "ipython3",
   "version": "3.7.0"
  }
 },
 "nbformat": 4,
 "nbformat_minor": 2
}
