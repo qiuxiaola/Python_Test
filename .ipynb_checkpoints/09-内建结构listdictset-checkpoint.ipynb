{
 "cells": [
  {
   "cell_type": "markdown",
   "metadata": {},
   "source": [
    "# 关于元组的函数"
   ]
  },
  {
   "cell_type": "code",
   "execution_count": 2,
   "metadata": {},
   "outputs": [
    {
     "data": {
      "text/plain": [
       "6"
      ]
     },
     "execution_count": 2,
     "metadata": {},
     "output_type": "execute_result"
    }
   ],
   "source": [
    "# len: 获取元组的长度\n",
    "t = (1,2,3,4,5,6)\n",
    "len(t)"
   ]
  },
  {
   "cell_type": "code",
   "execution_count": 4,
   "metadata": {},
   "outputs": [
    {
     "name": "stdout",
     "output_type": "stream",
     "text": [
      "6\n",
      "1\n"
     ]
    }
   ],
   "source": [
    "# max,min:最大值最小值\n",
    "# 如果，列表或元组中有多个最大最小值，则实际打印哪一个\n",
    "print(max(t))\n",
    "print(min(t))"
   ]
  },
  {
   "cell_type": "code",
   "execution_count": 9,
   "metadata": {},
   "outputs": [
    {
     "name": "stdout",
     "output_type": "stream",
     "text": [
      "[1, 2, 3, 4, 5]\n",
      "(1, 2, 3, 4, 5)\n",
      "()\n"
     ]
    }
   ],
   "source": [
    "# tuple:转化或创建元组\n",
    "l = [1,2,3,4,5]\n",
    "t = tuple(l)\n",
    "print(l)\n",
    "print(t)\n",
    "t = tuple()\n",
    "print(t)"
   ]
  },
  {
   "cell_type": "markdown",
   "metadata": {},
   "source": [
    "# 元组的函数\n",
    "- 基本跟list通用"
   ]
  },
  {
   "cell_type": "code",
   "execution_count": 13,
   "metadata": {},
   "outputs": [
    {
     "name": "stdout",
     "output_type": "stream",
     "text": [
      "4\n",
      "5\n",
      "1\n"
     ]
    }
   ],
   "source": [
    "# count:计算指定数据出现的次数\n",
    "t = (1,2,3,2,5,6,2,7,8,2)\n",
    "print(t.count(2))\n",
    "# index: 求指定元素在元组的索引位置\n",
    "print(t.index(6))\n",
    "# index: 求指定元素在元组的索引位置,如果元素是多个，则返回第一个\n",
    "print(t.index(2))"
   ]
  },
  {
   "cell_type": "code",
   "execution_count": 18,
   "metadata": {},
   "outputs": [
    {
     "name": "stdout",
     "output_type": "stream",
     "text": [
      "3\n",
      "5\n",
      "- -- -- -- -- -\n",
      "5\n",
      "3\n",
      "- -- -- -- -- -\n",
      "3\n",
      "5\n"
     ]
    }
   ],
   "source": [
    "# 元组变量交换法\n",
    "a = 3\n",
    "b = 5\n",
    "print(a)\n",
    "print(b)\n",
    "print(\"- -\"* 5)\n",
    "# java写法\n",
    "c = a\n",
    "a = b\n",
    "b = c\n",
    "print(a)\n",
    "print(b)\n",
    "print(\"- -\"* 5)\n",
    "# python 写法\n",
    "a,b = b,a\n",
    "print(a)\n",
    "print(b)"
   ]
  },
  {
   "cell_type": "markdown",
   "metadata": {},
   "source": [
    "# 集合-set\n",
    "- 集合是数学中的一个概念\n",
    "- 一堆确定无序的唯一的数据，集合中每一个数据成为一个元素"
   ]
  },
  {
   "cell_type": "code",
   "execution_count": 22,
   "metadata": {},
   "outputs": [
    {
     "name": "stdout",
     "output_type": "stream",
     "text": [
      "<class 'set'>\n",
      "set()\n",
      "{1, 2, 3, 4, 5}\n"
     ]
    }
   ],
   "source": [
    "# 集合的定义\n",
    "s = set()\n",
    "print(type(s))\n",
    "print(s)\n",
    "# 此时，大括号一定要有值，否则定义是一个dict\n",
    "s = {1,2,3,4,5}\n",
    "print(s)"
   ]
  },
  {
   "cell_type": "code",
   "execution_count": 24,
   "metadata": {},
   "outputs": [
    {
     "name": "stdout",
     "output_type": "stream",
     "text": [
      "<class 'dict'>\n",
      "{}\n"
     ]
    }
   ],
   "source": [
    "# 如果只用大括号，则定义是一个dict\n",
    "d = {}\n",
    "print(type(d))\n",
    "print(d)"
   ]
  },
  {
   "cell_type": "markdown",
   "metadata": {},
   "source": [
    "# 集合的特征\n",
    "- 集合内无序，即不可以使用索引和分片\n",
    "- 集合内数据元素具有唯一性，可以用来排除重复数据\n",
    "- 集合内的数据，str，int, float，tuple，冰冻集合等，即内部只能放置可哈希数据"
   ]
  },
  {
   "cell_type": "markdown",
   "metadata": {},
   "source": [
    "# 集合数列操作"
   ]
  },
  {
   "cell_type": "code",
   "execution_count": 28,
   "metadata": {},
   "outputs": [
    {
     "name": "stdout",
     "output_type": "stream",
     "text": [
      "{5, 7, '2003', 'love', 'i'}\n",
      "ai\n"
     ]
    }
   ],
   "source": [
    "# 成员检测\n",
    "# in，not in\n",
    "s = {5,7,\"i\", \"love\", \"2003\"}\n",
    "print(s)\n",
    "if \"love\"in s:\n",
    "    print(\"ai\")\n",
    "    "
   ]
  },
  {
   "cell_type": "markdown",
   "metadata": {},
   "source": [
    "# 集合遍历操作"
   ]
  },
  {
   "cell_type": "code",
   "execution_count": 33,
   "metadata": {},
   "outputs": [
    {
     "name": "stdout",
     "output_type": "stream",
     "text": [
      "5 7 2003 love i "
     ]
    }
   ],
   "source": [
    "# for循环\n",
    "s = {5,7,\"i\", \"love\", \"2003\"}\n",
    "\n",
    "for i in s:\n",
    "    print(i,end=\" \")"
   ]
  },
  {
   "cell_type": "code",
   "execution_count": 38,
   "metadata": {},
   "outputs": [
    {
     "name": "stdout",
     "output_type": "stream",
     "text": [
      "4 - -  6 - -  9\n",
      "i - -  love - -  2003\n",
      "1 - -  2 - -  3\n"
     ]
    }
   ],
   "source": [
    "# 带有元组的集合遍历\n",
    "s = {(1,2,3), (\"i\",\"love\",\"2003\"),(4,6,9)}\n",
    "for k,m,n in s:\n",
    "    print(k, \"- - \", m, \"- - \",n)"
   ]
  },
  {
   "cell_type": "code",
   "execution_count": null,
   "metadata": {},
   "outputs": [],
   "source": [
    "# 带有元组的集合遍历\n",
    "s = {(1,2,3), {}\"i\",\"love\",\"2003\"},(4,6,9)} # 不可哈希\n",
    "for k,m,n in s:\n",
    "    print(k, \"- - \", m, \"- - \",n)"
   ]
  }
 ],
 "metadata": {
  "kernelspec": {
   "display_name": "Python 3",
   "language": "python",
   "name": "python3"
  },
  "language_info": {
   "codemirror_mode": {
    "name": "ipython",
    "version": 3
   },
   "file_extension": ".py",
   "mimetype": "text/x-python",
   "name": "python",
   "nbconvert_exporter": "python",
   "pygments_lexer": "ipython3",
   "version": "3.7.0"
  }
 },
 "nbformat": 4,
 "nbformat_minor": 2
}
