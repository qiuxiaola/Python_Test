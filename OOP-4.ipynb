{
 "cells": [
  {
   "cell_type": "code",
   "execution_count": 7,
   "metadata": {},
   "outputs": [
    {
     "name": "stdout",
     "output_type": "stream",
     "text": [
      "Hi,my name is YUEYUE,my age is 20.5\n",
      "Hi,my name is LALA,my age is 25.2\n"
     ]
    }
   ],
   "source": [
    "# 属性案例\n",
    "# 创建student类，描述学生类\n",
    "# 学生具有student.name属性\n",
    "# 但name格式并不同一\n",
    "class Student():\n",
    "    def __init__(self, name, age):\n",
    "        self.name = name\n",
    "        self.age = age\n",
    "        # 如果不想修改代码（调用内部函数）\n",
    "        self.setName(name)\n",
    "        # 介绍自己\n",
    "    def intro(self):\n",
    "        print(\"Hi,my name is {0},my age is {1}\".format(self.name,self.age))\n",
    "    def setName(self, name):\n",
    "        self.name = name.upper()\n",
    "        \n",
    "s1 = Student(\"yueyue\", 20.5)\n",
    "s2 = Student(\"lala\", 25.2)\n",
    "s1.intro()\n",
    "s2.intro()"
   ]
  },
  {
   "cell_type": "code",
   "execution_count": 2,
   "metadata": {},
   "outputs": [],
   "source": [
    "# property案例\n",
    "# 定义一个person类，具有name，age属性\n",
    "# 对于输入任意名字，以大写的格式保存\n",
    "# 年龄，统一使用整数保存\n",
    "# x = property(fget, fset, fdel, doc)\n",
    "class Person():\n",
    "    '''\n",
    "    实例人的属性--doc--说明文档\n",
    "    '''\n",
    "    #函数名称任意\n",
    "    def fget(self):\n",
    "        return self._name * 2\n",
    "    def fset(self, name): \n",
    "        self._name = name.upper() #格式化，把name变为大写\n",
    "    def fdel(self, name):\n",
    "        self._name = \"NoName\"\n",
    "        \n",
    "    name = property(fget,fset,fdel,\"对name进行以下操作\")\n",
    "    \n"
   ]
  },
  {
   "cell_type": "code",
   "execution_count": 34,
   "metadata": {},
   "outputs": [
    {
     "name": "stdout",
     "output_type": "stream",
     "text": [
      "YUEYUEYUEYUE\n"
     ]
    }
   ],
   "source": [
    "p1 = Person()\n",
    "p1.name = \"yueyue\"\n",
    "print(p1.name)"
   ]
  },
  {
   "cell_type": "code",
   "execution_count": 6,
   "metadata": {},
   "outputs": [
    {
     "name": "stdout",
     "output_type": "stream",
     "text": [
      "{'__module__': '__main__', '__doc__': '\\n    实例人的属性--doc--说明文档\\n    ', 'fget': <function Person.fget at 0x7f830d642488>, 'fset': <function Person.fset at 0x7f830d642400>, 'fdel': <function Person.fdel at 0x7f830d642510>, 'name': <property object at 0x7f830d6a5ef8>, '__dict__': <attribute '__dict__' of 'Person' objects>, '__weakref__': <attribute '__weakref__' of 'Person' objects>}\n",
      "\n",
      "    实例人的属性--doc--说明文档\n",
      "    \n",
      "Person\n",
      "(<class 'object'>,)\n"
     ]
    }
   ],
   "source": [
    "# 类中的内置属性\n",
    "print(Person.__dict__)\n",
    "print(Person.__doc__)\n",
    "print(Person.__name__)\n",
    "print(Person.__bases__)"
   ]
  },
  {
   "cell_type": "code",
   "execution_count": 8,
   "metadata": {},
   "outputs": [
    {
     "name": "stdout",
     "output_type": "stream",
     "text": [
      "哈哈，我被调用了\n"
     ]
    }
   ],
   "source": [
    "# __init__ 举例 \n",
    "class A():\n",
    "    def __init__(self, name = \"lala\"):\n",
    "        print(\"哈哈，我被调用了\")\n",
    "    d\n",
    "a = A()"
   ]
  },
  {
   "cell_type": "code",
   "execution_count": 19,
   "metadata": {},
   "outputs": [
    {
     "name": "stdout",
     "output_type": "stream",
     "text": [
      "哈哈，我被调用了\n",
      "被调用again\n"
     ]
    }
   ],
   "source": [
    "# __call__ 举例 \n",
    "# 函数当作为实例调用，使用__call__\n",
    "class A():\n",
    "    def __init__(self, name = \"lala\"):\n",
    "        print(\"哈哈，我被调用了\")\n",
    "    def __call__(self):\n",
    "        print(\"被调用again\")\n",
    "    \n",
    "a = A()\n",
    "a()"
   ]
  },
  {
   "cell_type": "code",
   "execution_count": 1,
   "metadata": {},
   "outputs": [
    {
     "name": "stdout",
     "output_type": "stream",
     "text": [
      "哈哈，我被调用了\n",
      "邱晓拉\n"
     ]
    }
   ],
   "source": [
    "# __str__ 举例 \n",
    "class A():\n",
    "    def __init__(self, name = \"lala\"):\n",
    "        print(\"哈哈，我被调用了\")\n",
    "    def __call__(self):\n",
    "        print(\"被调用again\")\n",
    "    def __str__(self):\n",
    "        return \"邱晓拉\"\n",
    "a = A()\n",
    "print(a)"
   ]
  },
  {
   "cell_type": "code",
   "execution_count": 7,
   "metadata": {},
   "outputs": [
    {
     "name": "stdout",
     "output_type": "stream",
     "text": [
      "属性设置： age\n"
     ]
    }
   ],
   "source": [
    "# __setattr__案例\n",
    "class Person():\n",
    "    def __init__(self):\n",
    "        pass\n",
    "    def __setattr__(self, name, value):\n",
    "        print(\"属性设置： {0}\".format(name))\n",
    "        # 下面语句会造成死循环\n",
    "        #self.name = value\n",
    "        # 此情况，为了避免死循环，规定统一调用父类魔法函数\n",
    "        super().__setattr__(name,value)\n",
    "        \n",
    "p = Person()\n",
    "p.age = 18"
   ]
  },
  {
   "cell_type": "code",
   "execution_count": 11,
   "metadata": {},
   "outputs": [
    {
     "name": "stdout",
     "output_type": "stream",
     "text": [
      "哈哈， <__main__.Student object at 0x7fd9f3dbd0f0> 会比 <__main__.Student object at 0x7fd9f3dbd0b8> 大吗？\n",
      "False\n"
     ]
    }
   ],
   "source": [
    "# __gt__\n",
    "class Student():\n",
    "    def __init__(self, name):\n",
    "        self._name = name\n",
    "    def __gt__(self, obj):\n",
    "        print(\"哈哈， {0} 会比 {1} 大吗？\".format(self,obj))\n",
    "        return self._name > obj._name \n",
    "    \n",
    "stu1 = Student(\"one\")\n",
    "stu2 = Student(\"two\")\n",
    "print(stu1 > stu2)"
   ]
  },
  {
   "cell_type": "code",
   "execution_count": 23,
   "metadata": {},
   "outputs": [
    {
     "name": "stdout",
     "output_type": "stream",
     "text": [
      "<__main__.Person object at 0x7fd9f3e20470>\n",
      "Eatting...\n",
      "<class '__main__.Person'>\n",
      "Playing...\n",
      "<class '__main__.Person'>\n",
      "Playing...\n",
      "Saying..\n",
      "Saying..\n"
     ]
    }
   ],
   "source": [
    "# 三种方法的案例\n",
    "class Person:\n",
    "    # 实例方法\n",
    "    def eat(self):\n",
    "        print(self)\n",
    "        print(\"Eatting...\")\n",
    "        \n",
    "    # 类方法\n",
    "    # 类方法的第一个参数一般命名为cls，区别于self\n",
    "    @classmethod\n",
    "    def play(cls):\n",
    "        print(cls)\n",
    "        print(\"Playing...\")\n",
    "    \n",
    "    # 静态方法\n",
    "    # 不需要第一个参数表示自身或者类\n",
    "    @staticmethod #声明静态，去掉则编译报错;还有静态方法不能访问类变量和实例变量\n",
    "    def say(): #使用了静态方法，则不能再使用self\n",
    "        print(\"Saying..\")\n",
    "yueyue = Person()   \n",
    "\n",
    "# 实例方法\n",
    "#Person.eat()\n",
    "yueyue.eat()\n",
    "# 类方法\n",
    "Person.play()\n",
    "yueyue.play()\n",
    "# 静态方法\n",
    "Person.say()\n",
    "yueyue.say()"
   ]
  },
  {
   "cell_type": "code",
   "execution_count": null,
   "metadata": {},
   "outputs": [],
   "source": []
  }
 ],
 "metadata": {
  "kernelspec": {
   "display_name": "Python 3",
   "language": "python",
   "name": "python3"
  },
  "language_info": {
   "codemirror_mode": {
    "name": "ipython",
    "version": 3
   },
   "file_extension": ".py",
   "mimetype": "text/x-python",
   "name": "python",
   "nbconvert_exporter": "python",
   "pygments_lexer": "ipython3",
   "version": "3.7.0"
  }
 },
 "nbformat": 4,
 "nbformat_minor": 2
}
