{
 "cells": [
  {
   "cell_type": "code",
   "execution_count": 9,
   "metadata": {},
   "outputs": [
    {
     "name": "stdout",
     "output_type": "stream",
     "text": [
      "Eva\n"
     ]
    }
   ],
   "source": [
    "class Student():\n",
    "    name = \"Eva\"\n",
    "    age = 18\n",
    "Student.__dict__\n",
    "# 实例化\n",
    "yueyue = Student()\n",
    "yueyue.__dict__\n",
    "print(yueyue.name)"
   ]
  },
  {
   "cell_type": "code",
   "execution_count": 15,
   "metadata": {},
   "outputs": [
    {
     "name": "stdout",
     "output_type": "stream",
     "text": [
      "dana\n",
      "18\n",
      "* * * * * * * * * * * * * * * * * * * * \n",
      "139701064131000\n",
      "94800951854400\n",
      "dana\n",
      "18\n",
      "* * * * * * * * * * * * * * * * * * * * \n",
      "139701064131000\n",
      "94800951854400\n"
     ]
    }
   ],
   "source": [
    "class A():\n",
    "    name = \"dana\"\n",
    "    age = 18\n",
    "    # 主要say的写法，参数有一个self\n",
    "    def say(self):\n",
    "        self.name = \"lala\"\n",
    "        self.age =20\n",
    "        \n",
    "        \n",
    "# 此案例说明\n",
    "# 类实例的属性和其对象的实例的属性在不给对象的实例属性赋值的前提下，\n",
    "# 指向同一个变量       \n",
    "\n",
    "# 此时，A为类实例\n",
    "print(A.name)\n",
    "print(A.age)\n",
    "print(\"* \" * 20)\n",
    "print(id(A.name))\n",
    "print(id(A.age))\n",
    "a = A()\n",
    "print(a.name)\n",
    "print(a.age)\n",
    "print(\"* \" * 20)\n",
    "print(id(a.name))\n",
    "print(id(a.age))"
   ]
  },
  {
   "cell_type": "code",
   "execution_count": 23,
   "metadata": {},
   "outputs": [
    {
     "name": "stdout",
     "output_type": "stream",
     "text": [
      "dana\n",
      "18\n",
      "* * * * * * * * * * * * * * * * * * * * \n",
      "139701064131000\n",
      "94800951854400\n",
      "{'__module__': '__main__', 'name': 'dana', 'age': 18, 'say': <function A.say at 0x7f0eb044bf28>, '__dict__': <attribute '__dict__' of 'A' objects>, '__weakref__': <attribute '__weakref__' of 'A' objects>, '__doc__': None}\n",
      "{}\n",
      "xiaola\n",
      "16\n",
      "{'name': 'xiaola', 'age': 16}\n",
      "* * * * * * * * * * * * * * * * * * * * \n",
      "139701064133408\n",
      "94800951854336\n"
     ]
    }
   ],
   "source": [
    "# 此时，A为类实例\n",
    "print(A.name)\n",
    "print(A.age)\n",
    "print(\"* \" * 20)\n",
    "print(id(A.name))\n",
    "print(id(A.age))\n",
    "a = A()\n",
    "# 查看类A里面的成员\n",
    "print(A.__dict__)\n",
    "print(a.__dict__)\n",
    "\n",
    "a.name = \"xiaola\"\n",
    "a.age = 16\n",
    "\n",
    "\n",
    "print(a.name)\n",
    "print(a.age)\n",
    "print(a.__dict__)\n",
    "print(\"* \" * 20)\n",
    "print(id(a.name))\n",
    "print(id(a.age))"
   ]
  },
  {
   "cell_type": "code",
   "execution_count": 29,
   "metadata": {},
   "outputs": [
    {
     "name": "stdout",
     "output_type": "stream",
     "text": [
      "My name is yaya\n",
      "My age is  18\n",
      "dana\n",
      "19\n",
      "Hello ,nice to see you again\n"
     ]
    }
   ],
   "source": [
    "class Teacher():\n",
    "    name = \"dana\"\n",
    "    age = 19\n",
    "    \n",
    "    def say(self):\n",
    "        self.name = \"yaya\"\n",
    "        self.age = 18\n",
    "        print(\"My name is {0}\".format(self.name))\n",
    "        print(\"My age is  {0}\".format(self.age))\n",
    "    #调用类成员变量需要使用__class__\n",
    "    def sayAgain():\n",
    "        print(__class__.name)\n",
    "        print(__class__.age)\n",
    "        print(\"Hello ,nice to see you again\")\n",
    "t = Teacher()\n",
    "t.say()\n",
    "# 调用绑定类函数使用类名\n",
    "Teacher.sayAgain()"
   ]
  },
  {
   "cell_type": "code",
   "execution_count": 37,
   "metadata": {},
   "outputs": [
    {
     "name": "stdout",
     "output_type": "stream",
     "text": [
      "aaa\n",
      "20\n",
      "aaa\n",
      "20\n",
      "fff\n",
      "18\n",
      "bbb\n",
      "32\n"
     ]
    }
   ],
   "source": [
    "class A():\n",
    "    name = \"fff\"\n",
    "    age = 18\n",
    "    \n",
    "    def __init__(self):\n",
    "        self.name = \"aaa\"\n",
    "        self.age = 20\n",
    "        \n",
    "    def say(self):\n",
    "        print(self.name)\n",
    "        print(self.age)\n",
    "        \n",
    "class B():\n",
    "    name = \"bbb\"\n",
    "    age = 32\n",
    "    \n",
    "    \n",
    "a = A()\n",
    "# 此时，系统会默认把a作为第一个此时传入函数\n",
    "a.say()\n",
    "# 此时，self被a替换\n",
    "A.say(a)\n",
    "# 同样可以把A作为此时传入\n",
    "A.say(A)\n",
    "# 此时，传入的是类实例B，因为B具有name和age属性，所以不会报错\n",
    "A.say(B)\n",
    "# 以上代码。利用了鸭子模型"
   ]
  },
  {
   "cell_type": "code",
   "execution_count": 44,
   "metadata": {},
   "outputs": [
    {
     "name": "stdout",
     "output_type": "stream",
     "text": [
      "yueyue\n"
     ]
    },
    {
     "ename": "AttributeError",
     "evalue": "'Person' object has no attribute 'age'",
     "output_type": "error",
     "traceback": [
      "\u001b[0;31m---------------------------------------------------------------------------\u001b[0m",
      "\u001b[0;31mAttributeError\u001b[0m                            Traceback (most recent call last)",
      "\u001b[0;32m<ipython-input-44-a1f55e96ed33>\u001b[0m in \u001b[0;36m<module>\u001b[0;34m()\u001b[0m\n\u001b[1;32m      7\u001b[0m \u001b[0mp\u001b[0m \u001b[0;34m=\u001b[0m \u001b[0mPerson\u001b[0m\u001b[0;34m(\u001b[0m\u001b[0;34m)\u001b[0m\u001b[0;34m\u001b[0m\u001b[0m\n\u001b[1;32m      8\u001b[0m \u001b[0mprint\u001b[0m\u001b[0;34m(\u001b[0m\u001b[0mp\u001b[0m\u001b[0;34m.\u001b[0m\u001b[0mname\u001b[0m\u001b[0;34m)\u001b[0m\u001b[0;34m\u001b[0m\u001b[0m\n\u001b[0;32m----> 9\u001b[0;31m \u001b[0mprint\u001b[0m\u001b[0;34m(\u001b[0m\u001b[0mp\u001b[0m\u001b[0;34m.\u001b[0m\u001b[0mage\u001b[0m\u001b[0;34m)\u001b[0m\u001b[0;34m\u001b[0m\u001b[0m\n\u001b[0m",
      "\u001b[0;31mAttributeError\u001b[0m: 'Person' object has no attribute 'age'"
     ]
    }
   ],
   "source": [
    "class Person():\n",
    "    # name是共有的成员\n",
    "    name = \"yueyue\"\n",
    "    # __age是私有成员\n",
    "    __age = 18\n",
    "    \n",
    "p = Person()\n",
    "print(p.name)\n",
    "print(p.age)"
   ]
  },
  {
   "cell_type": "code",
   "execution_count": 48,
   "metadata": {},
   "outputs": [
    {
     "name": "stdout",
     "output_type": "stream",
     "text": [
      "{'__module__': '__main__', 'name': 'yueyue', '_Person__age': 18, '__dict__': <attribute '__dict__' of 'Person' objects>, '__weakref__': <attribute '__weakref__' of 'Person' objects>, '__doc__': None}\n",
      "19\n"
     ]
    }
   ],
   "source": [
    "print(Person.__dict__)\n",
    "p._Person__age = 19\n",
    "print(p._Person__age)"
   ]
  }
 ],
 "metadata": {
  "kernelspec": {
   "display_name": "Python 3",
   "language": "python",
   "name": "python3"
  },
  "language_info": {
   "codemirror_mode": {
    "name": "ipython",
    "version": 3
   },
   "file_extension": ".py",
   "mimetype": "text/x-python",
   "name": "python",
   "nbconvert_exporter": "python",
   "pygments_lexer": "ipython3",
   "version": "3.7.0"
  }
 },
 "nbformat": 4,
 "nbformat_minor": 2
}
