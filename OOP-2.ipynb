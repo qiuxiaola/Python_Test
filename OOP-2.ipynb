{
 "cells": [
  {
   "cell_type": "code",
   "execution_count": 9,
   "metadata": {},
   "outputs": [
    {
     "name": "stdout",
     "output_type": "stream",
     "text": [
      "NoName\n",
      "NoName\n",
      "sec\n",
      "567\n",
      "make a test\n"
     ]
    }
   ],
   "source": [
    "# 继承的语法\n",
    "# 在Python中，任何类都有一个共同的父类叫object\n",
    "class Person():\n",
    "    name = \"NoName\"\n",
    "    age = 20\n",
    "    __score = 90 # 私有，自有自己知道\n",
    "    _petname = \"sec\" # 小名，是保护的，子类可以用，但不可以公用 \n",
    "    def sleep(self):\n",
    "        print(\"Sleeping\")\n",
    "# 父类写在括号里\n",
    "class Teacher(Person):\n",
    "    teacher_id = \"567\"\n",
    "    def make_test(self):\n",
    "        print(\"make a test\")\n",
    "        pass\n",
    "t = Teacher()\n",
    "print(t.name)\n",
    "print(Teacher.name)\n",
    "print(t._petname)\n",
    "print(t.teacher_id)\n",
    "#print(t.__score)\n",
    "t.make_test()"
   ]
  },
  {
   "cell_type": "code",
   "execution_count": 12,
   "metadata": {},
   "outputs": [
    {
     "name": "stdout",
     "output_type": "stream",
     "text": [
      "yueyue\n"
     ]
    }
   ],
   "source": [
    "# 子类定义的成员与父类成员一致，则优先使用子类的成员\n",
    "class Person():\n",
    "    name = \"NoName\"\n",
    "    age = 20\n",
    "    __score = 90 # 私有，自有自己知道\n",
    "    _petname = \"sec\" # 小名，是保护的，子类可以用，但不可以公用 \n",
    "    def sleep(self):\n",
    "        print(\"Sleeping\")\n",
    "# 父类写在括号里\n",
    "class Teacher(Person):\n",
    "    teacher_id = \"567\"\n",
    "    name = \"yueyue\"\n",
    "    def make_test(self):\n",
    "        print(\"make a test\")\n",
    "        pass\n",
    "t = Teacher()\n",
    "print(t.name)\n"
   ]
  },
  {
   "cell_type": "code",
   "execution_count": 22,
   "metadata": {},
   "outputs": [
    {
     "name": "stdout",
     "output_type": "stream",
     "text": [
      "make money\n",
      "make a test\n"
     ]
    }
   ],
   "source": [
    "# 子类扩充父类\n",
    "class Person():\n",
    "    name = \"NoName\"\n",
    "    age = 20\n",
    "    __score = 90 # 私有，自有自己知道\n",
    "    _petname = \"sec\" # 小名，是保护的，子类可以用，但不可以公用 \n",
    "    def sleep(self):\n",
    "        print(\"Sleeping\")\n",
    "    def work(slef):\n",
    "        print(\"make money\")\n",
    "# 父类写在括号里\n",
    "class Teacher(Person):\n",
    "    teacher_id = \"567\"\n",
    "    name = \"yueyue\"\n",
    "    def make_test(self):\n",
    "        print(\"make a test\")\n",
    "        pass\n",
    "    def work(self):\n",
    "        # 扩充父类的功能只需调用父类相应的函数 [父类名.父类成员]\n",
    "        # Person.work(self)\n",
    "        # 扩充父类的功能只需调用父类相应的函数 [super（）.父类成员] \n",
    "        super().work()\n",
    "        self.make_test()\n",
    "t = Teacher()\n",
    "t.work()\n"
   ]
  },
  {
   "cell_type": "code",
   "execution_count": 25,
   "metadata": {},
   "outputs": [
    {
     "name": "stdout",
     "output_type": "stream",
     "text": [
      "init in dog\n"
     ]
    }
   ],
   "source": [
    "# 构造函数的概念\n",
    "class Dog():\n",
    "    # __init__就是构造函数\n",
    "    # 每次实例化的时候，第一个被自动调用\n",
    "    # 因为主要工作是进行初始化，所以的名\n",
    "    def __init__(self):\n",
    "        print(\"init in dog\")\n",
    "# 实例化时，括号内的参数要与构造函数一样\n",
    "kaka = Dog()"
   ]
  },
  {
   "cell_type": "code",
   "execution_count": 27,
   "metadata": {},
   "outputs": [
    {
     "name": "stdout",
     "output_type": "stream",
     "text": [
      "init in dog\n"
     ]
    }
   ],
   "source": [
    "# 继承中的构造函数-1\n",
    "class Animel():\n",
    "    pass\n",
    "class PaxingAni(Animel):\n",
    "    pass\n",
    "class Dog(PaxingAni):\n",
    "    # __init__就是构造函数\n",
    "    # 每次实例化的时候，第一个被自动调用\n",
    "    # 因为主要工作是进行初始化，所以的名\n",
    "    def __init__(self):\n",
    "        print(\"init in dog\")\n",
    "#实例化时，自动调用Dog的构造函数\n",
    "\n",
    "kaka = Dog()"
   ]
  },
  {
   "cell_type": "code",
   "execution_count": 43,
   "metadata": {},
   "outputs": [
    {
     "name": "stdout",
     "output_type": "stream",
     "text": [
      "init in dog\n",
      "Paxing Dongwu\n"
     ]
    }
   ],
   "source": [
    "# 继承中的构造函数-2\n",
    "class Animel():\n",
    "    def __init__(self):\n",
    "        print(\" I am Animel\")\n",
    "class PaxingAni(Animel):\n",
    "    def __init__(self):\n",
    "        print(\"Paxing Dongwu\")\n",
    "class Dog(PaxingAni):\n",
    "    # __init__就是构造函数\n",
    "    # 每次实例化的时候，第一个被自动调用\n",
    "    # 因为主要工作是进行初始化，所以的名\n",
    "    def __init__(self):\n",
    "        print(\"init in dog\")\n",
    "#实例化时，自动调用Dog的构造函数\n",
    "# 因为找到了构造函数，则不再查找父类的构造函数\n",
    "d = Dog()\n",
    "\n",
    "# Cat 没有构造函数,应向上查找\n",
    "class Cat(PaxingAni):\n",
    "    pass\n",
    "# 因为父类（PaxingAni）的构造函数需要两个参数，实例化时只给了一个，结果报错\n",
    "c = Cat()"
   ]
  },
  {
   "cell_type": "code",
   "execution_count": 44,
   "metadata": {},
   "outputs": [
    {
     "name": "stdout",
     "output_type": "stream",
     "text": [
      "init in dog\n"
     ]
    },
    {
     "ename": "TypeError",
     "evalue": "__init__() missing 1 required positional argument: 'name'",
     "traceback": [
      "\u001b[0;31m---------------------------------------------------------------------------\u001b[0m",
      "\u001b[0;31mTypeError\u001b[0m                                 Traceback (most recent call last)",
      "\u001b[0;32m<ipython-input-44-a3b59c0c226b>\u001b[0m in \u001b[0;36m<module>\u001b[0;34m()\u001b[0m\n\u001b[1;32m     21\u001b[0m \u001b[0;31m# 此时，由于cat没有构造函数，则向上查找\u001b[0m\u001b[0;34m\u001b[0m\u001b[0;34m\u001b[0m\u001b[0m\n\u001b[1;32m     22\u001b[0m \u001b[0;31m# 因为父类（PaxingAni）的构造函数需要两个参数，实例化时只给了一个，结果会报错\u001b[0m\u001b[0;34m\u001b[0m\u001b[0;34m\u001b[0m\u001b[0m\n\u001b[0;32m---> 23\u001b[0;31m \u001b[0mc\u001b[0m \u001b[0;34m=\u001b[0m \u001b[0mCat\u001b[0m\u001b[0;34m(\u001b[0m\u001b[0;34m)\u001b[0m\u001b[0;34m\u001b[0m\u001b[0m\n\u001b[0m",
      "\u001b[0;31mTypeError\u001b[0m: __init__() missing 1 required positional argument: 'name'"
     ],
     "output_type": "error"
    }
   ],
   "source": [
    "# 继承中的构造函数-3\n",
    "class Animel():\n",
    "    def __init__(self):\n",
    "        print(\" I am Animel\")\n",
    "class PaxingAni(Animel):\n",
    "    def __init__(self,name):\n",
    "        print(\"Paxing Dongwu{0}\".format(name))\n",
    "class Dog(PaxingAni):\n",
    "    # __init__就是构造函数\n",
    "    # 每次实例化的时候，第一个被自动调用\n",
    "    # 因为主要工作是进行初始化，所以的名\n",
    "    def __init__(self):\n",
    "        print(\"init in dog\")\n",
    "#实例化时，自动调用Dog的构造函数\n",
    "# 因为找到了构造函数，则不再查找父类的构造函数\n",
    "d = Dog()\n",
    "\n",
    "# Cat 没有构造函数,应向上查找\n",
    "class Cat(PaxingAni):\n",
    "    pass\n",
    "# 此时，由于cat没有构造函数，则向上查找\n",
    "# 因为父类（PaxingAni）的构造函数需要两个参数，实例化时只给了一个，结果会报错\n",
    "c = Cat()"
   ]
  },
  {
   "cell_type": "code",
   "execution_count": 46,
   "metadata": {},
   "outputs": [
    {
     "name": "stdout",
     "output_type": "stream",
     "text": [
      " I am Animel\n",
      " I am Animel\n"
     ]
    }
   ],
   "source": [
    "# 继承中的构造函数-4\n",
    "class Animel():\n",
    "    def __init__(self):\n",
    "        print(\" I am Animel\")\n",
    "class PaxingAni(Animel):\n",
    "    pass\n",
    "class Dog(PaxingAni):\n",
    "    # __init__就是构造函数\n",
    "    # 每次实例化的时候，第一个被自动调用\n",
    "    # 因为主要工作是进行初始化，所以的名\n",
    "    pass\n",
    "# Dog 没有构造函数,应向上查找\n",
    "d = Dog()\n",
    "\n",
    "# Cat 没有构造函数,应向上查找\n",
    "class Cat(PaxingAni):\n",
    "    pass\n",
    "# 此时，由于cat没有构造函数，则向上查找\n",
    "# 因为父类（PaxingAni）的构造函数需要两个参数，实例化时只给了一个，结果会报错\n",
    "c = Cat()"
   ]
  },
  {
   "cell_type": "code",
   "execution_count": 48,
   "metadata": {},
   "outputs": [
    {
     "name": "stdout",
     "output_type": "stream",
     "text": [
      "<class 'type'>\n",
      "Help on class super in module builtins:\n",
      "\n",
      "class super(object)\n",
      " |  super() -> same as super(__class__, <first argument>)\n",
      " |  super(type) -> unbound super object\n",
      " |  super(type, obj) -> bound super object; requires isinstance(obj, type)\n",
      " |  super(type, type2) -> bound super object; requires issubclass(type2, type)\n",
      " |  Typical use to call a cooperative superclass method:\n",
      " |  class C(B):\n",
      " |      def meth(self, arg):\n",
      " |          super().meth(arg)\n",
      " |  This works for class methods too:\n",
      " |  class C(B):\n",
      " |      @classmethod\n",
      " |      def cmeth(cls, arg):\n",
      " |          super().cmeth(arg)\n",
      " |  \n",
      " |  Methods defined here:\n",
      " |  \n",
      " |  __get__(self, instance, owner, /)\n",
      " |      Return an attribute of instance, which is of type owner.\n",
      " |  \n",
      " |  __getattribute__(self, name, /)\n",
      " |      Return getattr(self, name).\n",
      " |  \n",
      " |  __init__(self, /, *args, **kwargs)\n",
      " |      Initialize self.  See help(type(self)) for accurate signature.\n",
      " |  \n",
      " |  __repr__(self, /)\n",
      " |      Return repr(self).\n",
      " |  \n",
      " |  ----------------------------------------------------------------------\n",
      " |  Static methods defined here:\n",
      " |  \n",
      " |  __new__(*args, **kwargs) from builtins.type\n",
      " |      Create and return a new object.  See help(type) for accurate signature.\n",
      " |  \n",
      " |  ----------------------------------------------------------------------\n",
      " |  Data descriptors defined here:\n",
      " |  \n",
      " |  __self__\n",
      " |      the instance invoking super(); may be None\n",
      " |  \n",
      " |  __self_class__\n",
      " |      the type of the instance invoking super(); may be None\n",
      " |  \n",
      " |  __thisclass__\n",
      " |      the class invoking super()\n",
      "\n"
     ]
    }
   ],
   "source": [
    "print(type(super))\n",
    "help(super)"
   ]
  }
 ],
 "metadata": {
  "kernelspec": {
   "display_name": "Python 3",
   "language": "python",
   "name": "python3"
  },
  "language_info": {
   "codemirror_mode": {
    "name": "ipython",
    "version": 3
   },
   "file_extension": ".py",
   "mimetype": "text/x-python",
   "name": "python",
   "nbconvert_exporter": "python",
   "pygments_lexer": "ipython3",
   "version": "3.7.0"
  }
 },
 "nbformat": 4,
 "nbformat_minor": 2
}
