{
 "cells": [
  {
   "cell_type": "markdown",
   "metadata": {},
   "source": [
    "# while循环\n",
    "-一个循环语句\n",
    "-表示当某条件成立时，就循环\n",
    "-不知道具体循环次数\n",
    "-while语法：\n",
    "\n",
    "\n",
    "    while 条件表达式：\n",
    "        语句块\n",
    "        \n",
    "        \n",
    "    #另外一种表达式\n",
    "     while 条件表达式：\n",
    "         语句块\n",
    "         \n",
    "     else\n",
    "         语句块"
   ]
  },
  {
   "cell_type": "code",
   "execution_count": 3,
   "metadata": {},
   "outputs": [
    {
     "name": "stdout",
     "output_type": "stream",
     "text": [
      "第1年拿到10670.0钱。\n",
      "第2年拿到11384.89钱。\n",
      "第3年拿到12147.677629999998钱。\n",
      "第4年拿到12961.572031209998钱。\n",
      "第5年拿到13829.997357301068钱。\n",
      "第6年拿到14756.607180240238钱。\n",
      "第7年拿到15745.299861316334钱。\n",
      "第8年拿到16800.23495202453钱。\n",
      "第9年拿到17925.85069381017钱。\n",
      "第10年拿到19126.88269029545钱。\n",
      "第11年拿到20408.383830545245钱。\n"
     ]
    }
   ],
   "source": [
    "#如果年利率为6.7%，本利每年翻滚，则多少年后本金会翻倍\n",
    "benjin = 10000\n",
    "year = 0\n",
    "while benjin < 20000:\n",
    "    benjin *= (1+0.067)\n",
    "\n",
    "    year += 1\n",
    "    print(\"第{0}年拿到{1}钱。\".format(year,benjin))\n"
   ]
  },
  {
   "cell_type": "markdown",
   "metadata": {},
   "source": [
    "# 函数\n",
    "-代码的一种组织形式\n",
    "-一个函数一般完成一项特定的功能\n",
    "-函数的使用\n",
    "    -函数需先定义\n",
    "    -调用函数，俗称调用\n",
    "    "
   ]
  },
  {
   "cell_type": "code",
   "execution_count": 7,
   "metadata": {},
   "outputs": [],
   "source": [
    "#定义一个函数\n",
    "#只定义时，不会执行\n",
    "#1.def关键字，后跟一个空格\n",
    "#2.函数名，需自定义，但应遵循命名规则，约定俗成，大驼峰命名只给类使用\n",
    "#3.函数名后的括号不可省，括号内可有参数\n",
    "#4.函数内所有语句都需缩进\n",
    "\n",
    "def func():\n",
    "    print(\"我是个函数\")\n",
    "    print(\"我会完成一项特定的任务\")"
   ]
  },
  {
   "cell_type": "code",
   "execution_count": 10,
   "metadata": {},
   "outputs": [
    {
     "name": "stdout",
     "output_type": "stream",
     "text": [
      "我是个函数\n",
      "我会完成一项特定的任务\n"
     ]
    }
   ],
   "source": [
    "##函数调用\n",
    "#直接函数名跟括号\n",
    "\n",
    "func()"
   ]
  },
  {
   "cell_type": "markdown",
   "metadata": {},
   "source": [
    "# 函数的参数和返回值\n",
    "-参数： 负责给函数传递一些必要的数据或者信息\n",
    "    -形参（形式参数）： 在函数定义时无具体值，只是一个站位的符号，称为形参\n",
    "    -实参（实际参数）： 在调用时输入的值\n",
    "-返回值：函数执行的结果\n",
    "    -使用return关键字\n",
    "    -如果没有return，则返回None值\n",
    "    -函数一旦执行return语句，则返回一个值，然后无条件结束函数的执行，后面的语句块不在执行"
   ]
  },
  {
   "cell_type": "code",
   "execution_count": 14,
   "metadata": {},
   "outputs": [
    {
     "name": "stdout",
     "output_type": "stream",
     "text": [
      "明月,你肿么了\n"
     ]
    }
   ],
   "source": [
    "#参数定义和使用\n",
    "#参数person只是一个符号，代表调用时的某一个数据\n",
    "#调用时，会用p的值代替函数中所有的person\n",
    "\n",
    "def hello(person):\n",
    "        print(\"{0},你肿么了\".format(person))\n",
    "\n",
    "p = \"明月\"\n",
    "hello(p)"
   ]
  },
  {
   "cell_type": "code",
   "execution_count": 18,
   "metadata": {},
   "outputs": [
    {
     "name": "stdout",
     "output_type": "stream",
     "text": [
      "明月,你肿么了\n",
      "我已经邀请明月组队了，但明月还未回应。\n"
     ]
    }
   ],
   "source": [
    "#return语句的基本使用1\n",
    "#函数执行后返回的结果\n",
    "\n",
    "def hello(person):\n",
    "        print(\"{0},你肿么了\".format(person))\n",
    "        return \"我已经邀请{0}组队了，但{1}还未回应。\".format(person,person)\n",
    "p = \"明月\"\n",
    "rst = hello(p)\n",
    "print(rst)"
   ]
  },
  {
   "cell_type": "code",
   "execution_count": 20,
   "metadata": {},
   "outputs": [
    {
     "name": "stdout",
     "output_type": "stream",
     "text": [
      "明月,你肿么了\n",
      "我已经邀请明月组队了，但明月还未回应。\n"
     ]
    }
   ],
   "source": [
    "#return语句的基本使用1\n",
    "#函数执行后返回的结果\n",
    "\n",
    "def hello(person):\n",
    "        print(\"{0},你肿么了\".format(person))\n",
    "        return \"我已经邀请{0}组队了，但{1}还未回应。\".format(person,person)\n",
    "#p = \"明月\"\n",
    "rst = hello(\"明月\")\n",
    "print(rst)"
   ]
  },
  {
   "cell_type": "code",
   "execution_count": 28,
   "metadata": {},
   "outputs": [
    {
     "name": "stdout",
     "output_type": "stream",
     "text": [
      "明月,你肿么了\n",
      "明月你准备下线了吗？\n"
     ]
    }
   ],
   "source": [
    "#return语句的基本使用2\n",
    "\n",
    "def hello(person):\n",
    "        print(\"{0},你肿么了\".format(person))\n",
    "        return \"{0}你准备下线了吗？\".format(person)\n",
    "        print(\"改天再solo\")\n",
    "        return \"我已经邀请{0}组队了，但{1}还未回应。\".format(person,person)\n",
    "#p = \"明月\"\n",
    "rst = hello(\"明月\")\n",
    "print(rst)"
   ]
  },
  {
   "cell_type": "code",
   "execution_count": 31,
   "metadata": {},
   "outputs": [
    {
     "name": "stdout",
     "output_type": "stream",
     "text": [
      "Help on built-in function print in module builtins:\n",
      "\n",
      "print(...)\n",
      "    print(value, ..., sep=' ', end='\\n', file=sys.stdout, flush=False)\n",
      "    \n",
      "    Prints the values to a stream, or to sys.stdout by default.\n",
      "    Optional keyword arguments:\n",
      "    file:  a file-like object (stream); defaults to the current sys.stdout.\n",
      "    sep:   string inserted between values, default a space.\n",
      "    end:   string appended after the last value, default a newline.\n",
      "    flush: whether to forcibly flush the stream.\n",
      "\n"
     ]
    }
   ],
   "source": [
    "#帮助文档\n",
    "help(print)"
   ]
  },
  {
   "cell_type": "code",
   "execution_count": 50,
   "metadata": {},
   "outputs": [
    {
     "name": "stdout",
     "output_type": "stream",
     "text": [
      "1 ------\n",
      "2 4 ------\n",
      "3 6 9 ------\n",
      "4 8 12 16 ------\n",
      "5 10 15 20 25 ------\n",
      "6 12 18 24 30 36 ------\n",
      "7 14 21 28 35 42 49 ------\n",
      "8 16 24 32 40 48 56 64 ------\n",
      "9 18 27 36 45 54 63 72 81 ------\n"
     ]
    }
   ],
   "source": [
    "# 九九乘法表\n",
    "# version 1.0\n",
    "for row in range(1,10):\n",
    "   # print(\"{0}--a line\".format(row))\n",
    "    for col in range(1,row+1):\n",
    "        print(row * col,end=\" \")#print函数默认执行后换行           \n",
    "    print(\"------\")"
   ]
  },
  {
   "cell_type": "code",
   "execution_count": 53,
   "metadata": {},
   "outputs": [
    {
     "name": "stdout",
     "output_type": "stream",
     "text": [
      "1 \n",
      "2 4 \n",
      "3 6 9 \n",
      "4 8 12 16 \n",
      "5 10 15 20 25 \n",
      "6 12 18 24 30 36 \n",
      "7 14 21 28 35 42 49 \n",
      "8 16 24 32 40 48 56 64 \n",
      "9 18 27 36 45 54 63 72 81 \n"
     ]
    }
   ],
   "source": [
    "# 定义一个函数，打印九九乘法表\n",
    "def printLine(row):\n",
    "    for col in range(1,row+1):\n",
    "        print(row * col,end=\" \")#print函数默认执行后换行           \n",
    "    print(\"\")\n",
    "# 九九乘法表\n",
    "# version 2.0\n",
    "for row in range(1,10):\n",
    "    printLine(row)"
   ]
  },
  {
   "cell_type": "markdown",
   "metadata": {},
   "source": [
    "# 参数详解\n",
    "-【参考资料】（https://www.cnblogs.com/bingabcd/p/6671368.html）\n",
    "- Python参考资料 headfirst Python 零基础学习Python（小甲鱼）\n",
    "- 参数分类\n",
    "    - 普通参数\n",
    "    - 默认参数\n",
    "    - 关键字参数\n",
    "    - 收集参数\n",
    "- 普通参数\n",
    "    - 参见上列\n",
    "    - 定义时直接定义变量名\n",
    "    - 调用时直接把变量名或值放到制定位置\n",
    "    \n",
    "    \n",
    "    def 函数名 （参数1，参数2，...）：\n",
    "        函数体\n",
    "        \n",
    "    #调用\n",
    "    函数名 （value1，value2，...）：\n",
    "    #调用时按位置赋值\n",
    "    \n",
    "    \n",
    "- 默认参数\n",
    "    - 形参带默认值\n",
    "    - 调用时，如果没有给对应参数赋值，则使用默认值\n",
    "        \n",
    "    def func_name(p1=v1,p2=v2,...):\n",
    "        func_block\n",
    "        \n",
    "    #调用\n",
    "    func_name()"
   ]
  },
  {
   "cell_type": "code",
   "execution_count": 66,
   "metadata": {},
   "outputs": [],
   "source": [
    "# 默认参数示例\n",
    "\n",
    "def reg(name,age,gender=\"male\"):\n",
    "    if gender == \"male\":\n",
    "        print(\"{0} is {1},and he is a good student.\".format(name,age))\n",
    "    else:\n",
    "        print(\"{0} is {1},and she is a girl.\".format(name,age))\n"
   ]
  },
  {
   "cell_type": "code",
   "execution_count": 64,
   "metadata": {},
   "outputs": [
    {
     "name": "stdout",
     "output_type": "stream",
     "text": [
      "mingyue is 21,and she is a girl.\n",
      "xiaola is 23,and he is a good student.\n"
     ]
    }
   ],
   "source": [
    "# 调用默认参数案例1\n",
    "reg(\"mingyue\",21,\"female\")\n",
    "\n",
    "reg(\"xiaola\",23)"
   ]
  }
 ],
 "metadata": {
  "kernelspec": {
   "display_name": "Python 3",
   "language": "python",
   "name": "python3"
  },
  "language_info": {
   "codemirror_mode": {
    "name": "ipython",
    "version": 3
   },
   "file_extension": ".py",
   "mimetype": "text/x-python",
   "name": "python",
   "nbconvert_exporter": "python",
   "pygments_lexer": "ipython3",
   "version": "3.7.0"
  }
 },
 "nbformat": 4,
 "nbformat_minor": 2
}
