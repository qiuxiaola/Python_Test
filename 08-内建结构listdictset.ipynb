{
 "cells": [
  {
   "cell_type": "code",
   "execution_count": 10,
   "metadata": {},
   "outputs": [
    {
     "name": "stdout",
     "output_type": "stream",
     "text": [
      "[1, 2, 3, 4, 5]\n",
      "[1, 2, 300, 4, 5]\n",
      "[1, 2, 300, 4, 5]\n",
      "- - - - - - - - - - - - - - - - - - - - \n",
      "10\n",
      "30\n",
      "10\n"
     ]
    }
   ],
   "source": [
    "# 传值与传址\n",
    "# 对于简单的数值，采用传值操作，即在函数内对参数的修改不影响外面的参数\n",
    "'''对于复杂的数值，采用传地址操作，此时函数内的此时和外部变量是同一份内容，\n",
    "任何地方对此内容的修改都会影响内外参数和变量的使用\n",
    "'''\n",
    "def a(n):\n",
    "    n[2] = 300\n",
    "    print(n)\n",
    "    return None\n",
    "def b(n):\n",
    "    n += 20\n",
    "    print(n)\n",
    "    return None\n",
    "an = [1,2,3,4,5]\n",
    "bn = 10\n",
    "print(an)\n",
    "a(an)\n",
    "print(an)\n",
    "print(\"- \" * 20)\n",
    "print(bn)\n",
    "b(bn)\n",
    "print(bn)"
   ]
  },
  {
   "cell_type": "markdown",
   "metadata": {},
   "source": [
    "# 关于列表的函数\n"
   ]
  },
  {
   "cell_type": "code",
   "execution_count": 13,
   "metadata": {},
   "outputs": [
    {
     "data": {
      "text/plain": [
       "['I love Python', 24, 888, (8+7j)]"
      ]
     },
     "execution_count": 13,
     "metadata": {},
     "output_type": "execute_result"
    }
   ],
   "source": [
    "l = [\"I love Python\", 24, 888, 8+7j]\n",
    "l"
   ]
  },
  {
   "cell_type": "code",
   "execution_count": 15,
   "metadata": {},
   "outputs": [
    {
     "name": "stdout",
     "output_type": "stream",
     "text": [
      "[1, 2, 3, 4, 5, 6, 7]\n",
      "[1, 2, 3, 4, 5, 6, 7, 90]\n"
     ]
    }
   ],
   "source": [
    "# append 插入一个内容\n",
    "a = [i for i in range(1,8)]\n",
    "print(a)\n",
    "a.append(90)\n",
    "print(a)"
   ]
  },
  {
   "cell_type": "code",
   "execution_count": 30,
   "metadata": {},
   "outputs": [
    {
     "name": "stdout",
     "output_type": "stream",
     "text": [
      "[1, 2, 3, 4, 5, 6, 7]\n",
      "[1, 2, 555, 3, 4, 5, 6, 7]\n"
     ]
    }
   ],
   "source": [
    "# insert 制定位置插入\n",
    "# insert（index， data），插入位置是index前面\n",
    "a = [i for i in range(1,8)]\n",
    "print(a)\n",
    "a.insert(2, 555)\n",
    "print(a)"
   ]
  },
  {
   "cell_type": "code",
   "execution_count": 29,
   "metadata": {},
   "outputs": [
    {
     "name": "stdout",
     "output_type": "stream",
     "text": [
      "[1, 2, 3, 4, 5, 6, 7]\n",
      "7\n",
      "[1, 2, 3, 4, 5, 6]\n"
     ]
    }
   ],
   "source": [
    "# 删除\n",
    "# del 删除\n",
    "# pop 把最后的元素取出\n",
    "a = [i for i in range(1,8)]\n",
    "print(a)\n",
    "last_ele = a.pop()\n",
    "print(last_ele)\n",
    "print(a)"
   ]
  },
  {
   "cell_type": "code",
   "execution_count": 33,
   "metadata": {},
   "outputs": [
    {
     "name": "stdout",
     "output_type": "stream",
     "text": [
      "[1, 2, 3, 4, 5, 6, 7]\n",
      "2051720062088\n",
      "[1, 2, 3, 4, 5, 7]\n",
      "2051720062088\n"
     ]
    }
   ],
   "source": [
    "# remove: 在列表中删除指定的值得元素\n",
    "# 如果被删除值不在list中，则报错\n",
    "# 删除list指定值的操作可以使用try...excepty语句，或者先行进行判断\n",
    "# 即：if x in list:\n",
    "#       list.remove(x)\n",
    "a = [i for i in range(1,8)]\n",
    "print(a)\n",
    "print(id(a))\n",
    "a.remove(6)\n",
    "print(a)\n",
    "print(id(a))\n",
    "# 输出两个id值一样，说明，remove操作是在原list直接操作"
   ]
  },
  {
   "cell_type": "code",
   "execution_count": 42,
   "metadata": {},
   "outputs": [
    {
     "name": "stdout",
     "output_type": "stream",
     "text": [
      "[1, 2, 3, 4, 5, 6, 7]\n",
      "2051718453448\n",
      "[]\n",
      "2051718453448\n",
      "[1, 2, 3, 4, 5, 6, 7]\n",
      "2051719228936\n",
      "[]\n",
      "2051719227336\n"
     ]
    }
   ],
   "source": [
    "# clear； 清空\n",
    "a = [i for i in range(1,8)]\n",
    "print(a)\n",
    "print(id(a))\n",
    "a.clear()\n",
    "print(a)\n",
    "print(id(a))\n",
    "# 输出两个id值一样，说明，remove操作是在原list直接操作\n",
    "\n",
    "\n",
    "# 如果不需要列表地址保持不变，则清空列表可以使用下面语句\n",
    "a = [i for i in range(1,8)]\n",
    "print(a)\n",
    "print(id(a))\n",
    "a = []\n",
    "print(a)\n",
    "print(id(a))\n",
    "# 输出两个id值不一样，说明，清空操作不是在原list直接操作，地址已经发生变化"
   ]
  },
  {
   "cell_type": "code",
   "execution_count": 44,
   "metadata": {},
   "outputs": [
    {
     "name": "stdout",
     "output_type": "stream",
     "text": [
      "[1, 2, 3, 4, 5, 6, 7]\n",
      "2051720062280\n",
      "[7, 6, 5, 4, 3, 2, 1]\n",
      "2051720062280\n"
     ]
    }
   ],
   "source": [
    "# reverse；翻转\n",
    "a = [i for i in range(1,8)]\n",
    "print(a)\n",
    "print(id(a))\n",
    "a.reverse()\n",
    "print(a)\n",
    "print(id(a))\n",
    "# 输出两个id值一样，说明，reverse操作是在原list地址直接操作"
   ]
  },
  {
   "cell_type": "code",
   "execution_count": 46,
   "metadata": {},
   "outputs": [
    {
     "name": "stdout",
     "output_type": "stream",
     "text": [
      "[1, 2, 3, 4, 5, 6, 7]\n",
      "2051720004296\n",
      "[1, 2, 3, 4, 5, 6, 7, 8, 9, 10, 11, 12, 13, 14, 15, 16]\n",
      "2051720004296\n"
     ]
    }
   ],
   "source": [
    "# extend; 扩展列表，两个列表，把后一个直接拼接到前一个上\n",
    "a = [i for i in range(1,8)]\n",
    "b = [i for i in range(8,17)]\n",
    "print(a)\n",
    "print(id(a))\n",
    "a.extend(b)\n",
    "print(a)\n",
    "print(id(a))"
   ]
  },
  {
   "cell_type": "code",
   "execution_count": 51,
   "metadata": {},
   "outputs": [
    {
     "name": "stdout",
     "output_type": "stream",
     "text": [
      "[1, 2, 3, 4, 5, 6, 2, 7]\n",
      "2\n"
     ]
    }
   ],
   "source": [
    "# count；返回列表指定值后元素的个数\n",
    "a = [i for i in range(1,8)]\n",
    "a.insert(6,2)\n",
    "print(a)\n",
    "a_len = a.count(2)\n",
    "print(a_len) # 列表中有两个数字“2”"
   ]
  },
  {
   "cell_type": "code",
   "execution_count": 1,
   "metadata": {},
   "outputs": [
    {
     "name": "stdout",
     "output_type": "stream",
     "text": [
      "[1, 2, 3, 4, 5, 6, 7]\n",
      "2238388715144\n",
      "[1, 2, 3, 999, 5, 6, 7]\n",
      "a的id: 2238388715144\n",
      "[1, 2, 3, 999, 5, 6, 7]\n",
      "b的id: 2238388715144\n",
      "- - - - - - - - - - - - - - - - - - - - \n",
      "[1, 2, 3, 999, 5, 6, 7]\n",
      "a的id: 2238388715144\n",
      "[1, 2, 3, 999, 5, 6, 7]\n",
      "b的id: 2238389580488\n",
      "- - - - - - - - - - - - - - - - - - - - \n",
      "[1, 2, 3, 888, 5, 6, 7]\n",
      "新b的id： 2238389580488\n"
     ]
    }
   ],
   "source": [
    "# copy；拷贝，浅拷贝\n",
    "\n",
    "a = [1,2,3,4,5,6,7]\n",
    "print(a)\n",
    "print(id(a))\n",
    "b = a\n",
    "b[3] = 999\n",
    "print(a)\n",
    "print(\"a的id:\", id(a))\n",
    "print(b)\n",
    "print(\"b的id:\",id(b)) #典型的传地址案例\n",
    "print(\"- \" * 20)\n",
    "\n",
    "b = a.copy()\n",
    "print(a)\n",
    "print(\"a的id:\", id(a))\n",
    "print(b)\n",
    "print(\"b的id:\",id(b))\n",
    "print(\"- \" * 20)\n",
    "\n",
    "b[3] = 888\n",
    "print(b)\n",
    "print(\"新b的id：\", id(b))\n"
   ]
  },
  {
   "cell_type": "code",
   "execution_count": 3,
   "metadata": {},
   "outputs": [
    {
     "name": "stdout",
     "output_type": "stream",
     "text": [
      "2238389455304\n",
      "2238358988680\n",
      "2238349795976\n",
      "2238349795976\n",
      "[1, 2, 3, [10, 20, 666]]\n",
      "[1, 2, 3, [10, 20, 666]]\n"
     ]
    }
   ],
   "source": [
    "# 深拷贝和浅拷贝的区别\n",
    "# 出现下面问题的原因是，copy函数是个浅拷贝函数，即只拷贝一层内容\n",
    "# 深拷贝需要特定的工具\n",
    "a = [1,2,3,[10,20,30]]#内嵌列表[10,20,30]可以理解为下面的a[3]列表\n",
    "b = a.copy()\n",
    "print(id(a))\n",
    "print(id(b))\n",
    "print(id(a[3]))\n",
    "print(id(b[3]))\n",
    "a[3][2] =  666\n",
    "print(a)\n",
    "print(b)"
   ]
  },
  {
   "cell_type": "markdown",
   "metadata": {},
   "source": [
    "# 元组-tuple\n",
    "- 元组可以看成是一个不可更改的list\n"
   ]
  },
  {
   "cell_type": "code",
   "execution_count": 15,
   "metadata": {},
   "outputs": [
    {
     "name": "stdout",
     "output_type": "stream",
     "text": [
      "<class 'tuple'>\n",
      "<class 'tuple'>\n",
      "<class 'tuple'>\n",
      "<class 'int'>\n",
      "- - - - - - - - - - - - - - - - - - - - \n",
      "<class 'tuple'>\n",
      "(1, 2, 3, 4, 5)\n",
      "<class 'tuple'>\n",
      "(1, 2, 3, 4, 5)\n",
      "- - - - - - - - - - - - - - - - - - - - \n",
      "<class 'tuple'>\n",
      "(1, 2, 3, 4, 5)\n"
     ]
    }
   ],
   "source": [
    "# 创建空元组\n",
    "t = ()\n",
    "print(type(t))\n",
    "# 创建一个只有一个值的元组\n",
    "t = (1,)\n",
    "print(type(t))\n",
    "t = 1,\n",
    "print(type(t))\n",
    "\n",
    "#注意区别\n",
    "t = (1)\n",
    "print(type(t))\n",
    "print(\"- \" * 20)\n",
    "\n",
    "# 创建多个值得元组\n",
    "t = (1,2,3,4,5)\n",
    "print(type(t))\n",
    "print(t)\n",
    "\n",
    "t = 1,2,3,4,5\n",
    "print(type(t))\n",
    "print(t)\n",
    "print(\"- \" * 20)\n",
    "l = [1,2,3,4,5]\n",
    "t =tuple(l)\n",
    "print(type(t))\n",
    "print(t)"
   ]
  },
  {
   "cell_type": "markdown",
   "metadata": {},
   "source": [
    "## 元组的特性\n",
    "- 有序\n",
    "- 元组数据值可以访问，不可修改，即（不可增删该）\n",
    "- 元组数据可以是任意类型\n",
    "- 具有list初可以修改特性外的其余特性\n",
    "- 也就意味着，list具有的一些操作，比如索引，分片，序列相加，相乘，成员资格操作等等"
   ]
  },
  {
   "cell_type": "code",
   "execution_count": 18,
   "metadata": {},
   "outputs": [
    {
     "name": "stdout",
     "output_type": "stream",
     "text": [
      "5\n"
     ]
    }
   ],
   "source": [
    "# 索引操作\n",
    "t = [1,2,3,4,5]\n",
    "print(t[4])"
   ]
  },
  {
   "cell_type": "code",
   "execution_count": 20,
   "metadata": {},
   "outputs": [
    {
     "ename": "IndexError",
     "evalue": "list index out of range",
     "traceback": [
      "\u001b[1;31m---------------------------------------------------------------------------\u001b[0m",
      "\u001b[1;31mIndexError\u001b[0m                                Traceback (most recent call last)",
      "\u001b[1;32m<ipython-input-20-8efc25606250>\u001b[0m in \u001b[0;36m<module>\u001b[1;34m()\u001b[0m\n\u001b[0;32m      2\u001b[0m \u001b[1;31m# 注意索引从下标0开始\u001b[0m\u001b[1;33m\u001b[0m\u001b[1;33m\u001b[0m\u001b[0m\n\u001b[0;32m      3\u001b[0m \u001b[0mt\u001b[0m \u001b[1;33m=\u001b[0m \u001b[1;33m[\u001b[0m\u001b[1;36m1\u001b[0m\u001b[1;33m,\u001b[0m\u001b[1;36m2\u001b[0m\u001b[1;33m,\u001b[0m\u001b[1;36m3\u001b[0m\u001b[1;33m,\u001b[0m\u001b[1;36m4\u001b[0m\u001b[1;33m,\u001b[0m\u001b[1;36m5\u001b[0m\u001b[1;33m,\u001b[0m\u001b[1;33m]\u001b[0m\u001b[1;33m\u001b[0m\u001b[0m\n\u001b[1;32m----> 4\u001b[1;33m \u001b[0mprint\u001b[0m\u001b[1;33m(\u001b[0m\u001b[0mt\u001b[0m\u001b[1;33m[\u001b[0m\u001b[1;36m5\u001b[0m\u001b[1;33m]\u001b[0m\u001b[1;33m)\u001b[0m\u001b[1;33m\u001b[0m\u001b[0m\n\u001b[0m",
      "\u001b[1;31mIndexError\u001b[0m: list index out of range"
     ],
     "output_type": "error"
    }
   ],
   "source": [
    "# 超标错误\n",
    "# 注意索引从下标0开始\n",
    "t = [1,2,3,4,5]\n",
    "print(t[5])"
   ]
  },
  {
   "cell_type": "code",
   "execution_count": 24,
   "metadata": {},
   "outputs": [
    {
     "name": "stdout",
     "output_type": "stream",
     "text": [
      "2238388712072\n",
      "2238379917960\n",
      "[1, 3, 5]\n",
      "[3, 4, 5]\n"
     ]
    }
   ],
   "source": [
    "# 分片操作\n",
    "t = [1,2,3,4,5]\n",
    "t1 = t[0::2]\n",
    "print(id(t))\n",
    "print(id(t1))\n",
    "print(t1)\n",
    "\n",
    "# 分片操作可以超标\n",
    "t2 =t[2:10]\n",
    "print(t2)"
   ]
  },
  {
   "cell_type": "code",
   "execution_count": 27,
   "metadata": {},
   "outputs": [
    {
     "name": "stdout",
     "output_type": "stream",
     "text": [
      "(1, 2, 3)\n",
      "2238390236360\n",
      "(1, 2, 3, 4, 5, 6)\n",
      "2238389468136\n"
     ]
    },
    {
     "ename": "TypeError",
     "evalue": "'tuple' object does not support item assignment",
     "traceback": [
      "\u001b[1;31m---------------------------------------------------------------------------\u001b[0m",
      "\u001b[1;31mTypeError\u001b[0m                                 Traceback (most recent call last)",
      "\u001b[1;32m<ipython-input-27-db255809256f>\u001b[0m in \u001b[0;36m<module>\u001b[1;34m()\u001b[0m\n\u001b[0;32m     13\u001b[0m \u001b[1;31m# tuple 的不可以修改，指的是内容不可以修改#\u001b[0m\u001b[1;33m\u001b[0m\u001b[1;33m\u001b[0m\u001b[0m\n\u001b[0;32m     14\u001b[0m \u001b[1;31m# 修改tuple会导致报错\u001b[0m\u001b[1;33m\u001b[0m\u001b[1;33m\u001b[0m\u001b[0m\n\u001b[1;32m---> 15\u001b[1;33m \u001b[0mt1\u001b[0m\u001b[1;33m[\u001b[0m\u001b[1;36m1\u001b[0m\u001b[1;33m]\u001b[0m \u001b[1;33m=\u001b[0m \u001b[1;36m100\u001b[0m\u001b[1;33m\u001b[0m\u001b[0m\n\u001b[0m\u001b[0;32m     16\u001b[0m \u001b[0mprint\u001b[0m\u001b[1;33m(\u001b[0m\u001b[0mt1\u001b[0m\u001b[1;33m)\u001b[0m\u001b[1;33m\u001b[0m\u001b[0m\n",
      "\u001b[1;31mTypeError\u001b[0m: 'tuple' object does not support item assignment"
     ],
     "output_type": "error"
    }
   ],
   "source": [
    "# 序列相加\n",
    "t1 = (1,2,3)\n",
    "t2 = (4,5,6)\n",
    "# 传址操作,(id发生变化)\n",
    "print(t1)\n",
    "print(id(t1))\n",
    "t1 += t2 #t1被重新赋值了\n",
    "print(t1)\n",
    "print(id(t1))\n",
    "#类似下面赋值语句，t1被重新赋值了\n",
    "t1 = (1,2,3)\n",
    "t1 = (7,8,9)\n",
    "# tuple 的不可以修改，指的是内容不可以修改#\n",
    "# 修改tuple会导致报错\n",
    "t1[1] = 100\n",
    "print(t1)"
   ]
  },
  {
   "cell_type": "code",
   "execution_count": 29,
   "metadata": {},
   "outputs": [
    {
     "name": "stdout",
     "output_type": "stream",
     "text": [
      "(1, 2, 3, 1, 2, 3, 1, 2, 3)\n"
     ]
    }
   ],
   "source": [
    "# 元组的相乘\n",
    "t = (1,2,3)\n",
    "t *= 3\n",
    "print(t)"
   ]
  },
  {
   "cell_type": "code",
   "execution_count": 31,
   "metadata": {},
   "outputs": [
    {
     "name": "stdout",
     "output_type": "stream",
     "text": [
      "yes\n"
     ]
    }
   ],
   "source": [
    "# 元组的检查\n",
    "t = (1,2,3)\n",
    "if 2 in t:\n",
    "    print(\"yes\")\n",
    "else:\n",
    "    print(\"no\")"
   ]
  },
  {
   "cell_type": "code",
   "execution_count": 33,
   "metadata": {},
   "outputs": [
    {
     "name": "stdout",
     "output_type": "stream",
     "text": [
      "1 2 3 xiaomin i love "
     ]
    }
   ],
   "source": [
    "# 元组的遍历，一般采用for\n",
    "# 1.单层元组遍历\n",
    "t = (1,2,3,\"xiaomin\",\"i\",\"love\")\n",
    "for i in t:\n",
    "    print(i, end=\" \")"
   ]
  },
  {
   "cell_type": "code",
   "execution_count": 36,
   "metadata": {},
   "outputs": [
    {
     "name": "stdout",
     "output_type": "stream",
     "text": [
      "(1, 2, 3)\n",
      "(4, 5, 6)\n",
      "('xiaomin', 'i', 'love')\n",
      "1 - - 2 - - 3\n",
      "4 - - 5 - - 6\n",
      "xiaomin - - i - - love\n"
     ]
    }
   ],
   "source": [
    "# 1.双层元组遍历\n",
    "t = ((1,2,3),(4,5,6),(\"xiaomin\",\"i\",\"love\"))\n",
    "for i in t:\n",
    "    print(i)\n",
    "for k,m,n in t:\n",
    "    print(k,\"- -\",m,\"- -\",n)"
   ]
  }
 ],
 "metadata": {
  "kernelspec": {
   "display_name": "Python 3",
   "language": "python",
   "name": "python3"
  },
  "language_info": {
   "codemirror_mode": {
    "name": "ipython",
    "version": 3
   },
   "file_extension": ".py",
   "mimetype": "text/x-python",
   "name": "python",
   "nbconvert_exporter": "python",
   "pygments_lexer": "ipython3",
   "version": "3.7.0"
  }
 },
 "nbformat": 4,
 "nbformat_minor": 2
}
